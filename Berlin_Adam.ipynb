{
 "cells": [
  {
   "cell_type": "code",
   "execution_count": 43,
   "id": "6b382c5c-21e7-493f-b74c-320ab71c5696",
   "metadata": {},
   "outputs": [],
   "source": [
    "\n",
    "import requests\n",
    "\n",
    "url = \"https://app.ticketmaster.com/discovery/v2/events?apikey=32xPzqXT9Hme5zMjJ4B8jGnTGtjHCwEC&locale=*&page=42&city=Berlin\"\n",
    "response = requests.get(url)\n",
    "data = response.json()"
   ]
  },
  {
   "cell_type": "code",
   "execution_count": 17,
   "id": "17d1480e-1b7b-4c9f-b786-c7a5c40ba6a0",
   "metadata": {},
   "outputs": [
    {
     "name": "stdout",
     "output_type": "stream",
     "text": [
      "EXPATS in Berlin - English Comedy Show on 2025-05-29 at Berlin\n",
      "Nina Utashiro on 2025-05-29 at Berlin\n",
      "Stereolab - Tour 2025 on 2025-05-29 at Berlin\n",
      "THURSDAY THRILLS - tight one hour show with experienced comics on 2025-05-29 at Berlin\n",
      "Laughing Spree Comedy Show on 2025-05-29 at Berlin\n",
      "Chelsea Handler: An Abroad Broad on 2025-05-30 at Berlin\n",
      "FKA twigs - Eusexua 2025 Tour | Gallery Seat & Drinks on 2025-05-30 at Berlin\n",
      "FRIDAY FUNNIES - English Comedy Showcase with Pat Moore on 2025-05-30 at Berlin\n",
      "Two Shell on 2025-05-30 at Berlin\n",
      "FKA twigs - Eusexua 2025 Tour on 2025-05-30 at Berlin\n",
      "The Dark Comedy Show *TRIGGER WARNING* on 2025-05-30 at Berlin\n",
      "DUBLON on 2025-05-30 at Berlin\n",
      "FKA twigs - Eusexua 2025 Tour | Gallery Seat on 2025-05-30 at Berlin\n",
      "The Brian Jonestown Massacre on 2025-05-31 at Berlin\n",
      "CORELLA on 2025-06-03 at Berlin\n",
      "Yasiin Bey (FKA Mos Def) - \"Beyondoom\" Tribute to MF Doom on 2025-06-03 at Berlin\n",
      "Laughing Spree Comedy Show on 2025-06-03 at Berlin\n",
      "Spill Tab on 2025-06-03 at Berlin\n",
      "Amelia Moore - he's still just not that into you mixtape release shows on 2025-06-04 at Berlin\n",
      "Full Crate on 2025-06-04 at Berlin\n"
     ]
    }
   ],
   "source": [
    "events = data.get('_embedded', {}).get('events', [])\n",
    "for event in events:\n",
    "    name = event.get('name')\n",
    "    date = event.get('dates', {}).get('start', {}).get('localDate')\n",
    "    venues = event.get('_embedded', {}).get('venues', [])\n",
    "    city = venues[0].get('city', {}).get('name') if venues else 'Unknown'\n",
    "    print(f\"{name} on {date} at {city}\")"
   ]
  },
  {
   "cell_type": "code",
   "execution_count": 25,
   "id": "0781c7db-fa73-4e2e-a2c7-ae523d4e2edd",
   "metadata": {},
   "outputs": [
    {
     "name": "stdout",
     "output_type": "stream",
     "text": [
      "Top event genres in Berlin:\n",
      "Music: 13 events\n",
      "Arts & Theatre: 7 events\n",
      "\n",
      "Number of events per month:\n",
      "May: 14 events\n",
      "June: 6 events\n"
     ]
    }
   ],
   "source": [
    "from collections import Counter\n",
    "from datetime import datetime\n",
    "\n",
    "all_events = data.get('_embedded', {}).get('events', [])\n",
    "\n",
    "segment_counter = Counter()\n",
    "month_counter = Counter()\n",
    "\n",
    "for event in all_events:\n",
    "    classifications = event.get('classifications', [])\n",
    "    if classifications:\n",
    "        segment = classifications[0].get('segment', {}).get('name', 'Unknown')\n",
    "    else:\n",
    "        segment = 'Unknown'\n",
    "    segment_counter[segment] += 1\n",
    "\n",
    "    date_str = event.get('dates', {}).get('start', {}).get('localDate')\n",
    "    if date_str:\n",
    "        try:\n",
    "            date_obj = datetime.strptime(date_str, '%Y-%m-%d')\n",
    "            month_name = date_obj.strftime('%B')\n",
    "            month_counter[month_name] += 1\n",
    "        except ValueError:\n",
    "            pass\n",
    "\n",
    "print(\"Top event genres in Berlin:\")\n",
    "for segment, count in segment_counter.most_common():\n",
    "    print(f\"{segment}: {count} events\")\n",
    "\n",
    "print(\"\\nNumber of events per month:\")\n",
    "for month, count in month_counter.most_common():\n",
    "    print(f\"{month}: {count} events\")"
   ]
  },
  {
   "cell_type": "code",
   "execution_count": null,
   "id": "b552a76e-f7d5-4c07-9715-201e93eac767",
   "metadata": {},
   "outputs": [],
   "source": []
  }
 ],
 "metadata": {
  "kernelspec": {
   "display_name": "Python 3 (ipykernel)",
   "language": "python",
   "name": "python3"
  },
  "language_info": {
   "codemirror_mode": {
    "name": "ipython",
    "version": 3
   },
   "file_extension": ".py",
   "mimetype": "text/x-python",
   "name": "python",
   "nbconvert_exporter": "python",
   "pygments_lexer": "ipython3",
   "version": "3.12.7"
  }
 },
 "nbformat": 4,
 "nbformat_minor": 5
}
