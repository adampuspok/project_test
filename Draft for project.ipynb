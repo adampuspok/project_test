{
 "cells": [
  {
   "cell_type": "code",
   "execution_count": null,
   "id": "453d4cdb",
   "metadata": {},
   "outputs": [],
   "source": []
  },
  {
   "cell_type": "code",
   "execution_count": null,
   "id": "5712e13a",
   "metadata": {},
   "outputs": [
    {
     "name": "stdout",
     "output_type": "stream",
     "text": [
      "{'access_token': 'BQBTDumEF0Iv1H7-HPdgODT0eXZhL5-7OUxVK16FSBk0vCINRhop1k4uBfLF9Dx_hvRxm04TuMNDwnCBrz4CyIJe4yfys1b4kTbOdYJOzqvlOFzP50rahsHD8lUdlJKY7Y3BtrVpf10', 'token_type': 'Bearer', 'expires_in': 3600}\n"
     ]
    }
   ],
   "source": [
    "import requests\n",
    "\n",
    "# Replace these with your actual client ID and client secret\n",
    "client_id = '-------'\n",
    "client_secret = '------'\n",
    "\n",
    "# Define the URL\n",
    "url = \"https://accounts.spotify.com/api/token\"\n",
    "\n",
    "# Define the headers\n",
    "headers = {\n",
    "    \"Content-Type\": \"application/x-www-form-urlencoded\"\n",
    "}\n",
    "\n",
    "# Define the body of the POST request\n",
    "data = {\n",
    "    \"grant_type\": \"client_credentials\",\n",
    "    \"client_id\": client_id,\n",
    "    \"client_secret\": client_secret\n",
    "}\n",
    "\n",
    "# Make the POST request\n",
    "response = requests.post(url, headers=headers, data=data)\n",
    "\n",
    "# Print the response from the server\n",
    "print(response.json())"
   ]
  },
  {
   "cell_type": "code",
   "execution_count": null,
   "id": "091df235",
   "metadata": {},
   "outputs": [
    {
     "name": "stdout",
     "output_type": "stream",
     "text": [
      "{'external_urls': {'spotify': 'https://open.spotify.com/artist/49QW5bbN3ta3IGezNZVwmb'}, 'followers': {'href': None, 'total': 2549}, 'genres': [], 'href': 'https://api.spotify.com/v1/artists/49QW5bbN3ta3IGezNZVwmb', 'id': '49QW5bbN3ta3IGezNZVwmb', 'images': [{'url': 'https://i.scdn.co/image/ab6761610000e5eb3875b95237856aa2d3b6bdaf', 'height': 640, 'width': 640}, {'url': 'https://i.scdn.co/image/ab676161000051743875b95237856aa2d3b6bdaf', 'height': 320, 'width': 320}, {'url': 'https://i.scdn.co/image/ab6761610000f1783875b95237856aa2d3b6bdaf', 'height': 160, 'width': 160}], 'name': 'Camilla Brunetta', 'popularity': 0, 'type': 'artist', 'uri': 'spotify:artist:49QW5bbN3ta3IGezNZVwmb'}\n"
     ]
    }
   ],
   "source": [
    "# The Spotify API URL you want to access\n",
    "url = \"https://api.spotify.com/v1/artists/49QW5bbN3ta3IGezNZVwmb\"\n",
    "\n",
    "# The headers, including the Authorization header with your Bearer token\n",
    "headers = {\n",
    "    \"Authorization\": \"Bearer --------0\"\n",
    "}\n",
    "\n",
    "# Make the GET request to the Spotify API\n",
    "response = requests.get(url, headers=headers)\n",
    "\n",
    "# Print the JSON response from the server\n",
    "print(response.json())"
   ]
  },
  {
   "cell_type": "code",
   "execution_count": null,
   "id": "051d1937",
   "metadata": {},
   "outputs": [],
   "source": []
  }
 ],
 "metadata": {
  "kernelspec": {
   "display_name": "base",
   "language": "python",
   "name": "python3"
  },
  "language_info": {
   "codemirror_mode": {
    "name": "ipython",
    "version": 3
   },
   "file_extension": ".py",
   "mimetype": "text/x-python",
   "name": "python",
   "nbconvert_exporter": "python",
   "pygments_lexer": "ipython3",
   "version": "3.12.7"
  }
 },
 "nbformat": 4,
 "nbformat_minor": 5
}
